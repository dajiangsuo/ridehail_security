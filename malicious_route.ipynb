{
 "cells": [
  {
   "cell_type": "code",
   "execution_count": 1,
   "metadata": {},
   "outputs": [],
   "source": [
    "#from importlib import reload\n",
    "import pandas as pd\n",
    "import numpy as np\n",
    "import matplotlib.pyplot as plt\n",
    "import matplotlib\n",
    "matplotlib.rcParams['figure.figsize']=(10,18)\n",
    "%matplotlib inline\n",
    "from datetime import datetime\n",
    "from datetime import date\n",
    "#import xgboost as xgb\n",
    "from sklearn.cluster import MiniBatchKMeans\n",
    "import seaborn as sns # plot beautiful charts\n",
    "import warnings\n",
    "import math\n",
    "sns.set()\n",
    "warnings.filterwarnings('ignore')"
   ]
  },
  {
   "cell_type": "code",
   "execution_count": 2,
   "metadata": {},
   "outputs": [],
   "source": [
    "data_train = pd.read_csv('input/train.csv').drop(columns=['dropoff_datetime'])\n",
    "data_test = pd.read_csv('input/test.csv')\n",
    "\n",
    "#data_train.head()\n",
    "#. Add fastest routes and merge them into the origial dataframe\n",
    "data_train_fastroute1 = pd.read_csv('input/fastest_routes_train_part_1.csv',\n",
    "                        usecols=['id', 'total_distance','number_of_steps',  'step_location_list'])\n",
    "data_train_fastroute2 = pd.read_csv('input/fastest_routes_train_part_2.csv',\n",
    "                        usecols=['id', 'total_distance','number_of_steps',  'step_location_list'])\n",
    "data_train_fastroute = pd.concat((data_train_fastroute1,data_train_fastroute2))\n",
    "data_train = data_train.join(data_train_fastroute.set_index('id'), on='id')\n",
    "data_train.head()\n",
    "# Clean rows that have null values\n",
    "data_train = data_train.dropna()"
   ]
  },
  {
   "cell_type": "code",
   "execution_count": 5,
   "metadata": {},
   "outputs": [
    {
     "data": {
      "text/plain": [
       "array([[[    0.      ,     0.      ],\n",
       "        [    0.      ,     0.      ],\n",
       "        [    0.      ,     0.      ],\n",
       "        ...,\n",
       "        [  -73.981995,    40.76769 ],\n",
       "        [  -73.979195,    40.771782],\n",
       "        [  -73.97028 ,    40.768024]],\n",
       "\n",
       "       [[    0.      ,     0.      ],\n",
       "        [    0.      ,     0.      ],\n",
       "        [    0.      ,     0.      ],\n",
       "        ...,\n",
       "        [   65.874084,  -375.56058 ],\n",
       "        [ -367.34457 ,  -320.58466 ],\n",
       "        [ -491.52728 ,  -449.11298 ]],\n",
       "\n",
       "       [[-2099.236   ,   166.77582 ],\n",
       "        [ 2161.2573  , -1212.8766  ],\n",
       "        [-2305.2292  ,  -448.13348 ],\n",
       "        ...,\n",
       "        [  363.0345  ,   467.65295 ],\n",
       "        [  826.4124  ,  2362.3713  ],\n",
       "        [-1709.385   ,  2472.826   ]],\n",
       "\n",
       "       ...,\n",
       "\n",
       "       [[    0.      ,     0.      ],\n",
       "        [    0.      ,     0.      ],\n",
       "        [  -73.95374 ,    40.766857],\n",
       "        ...,\n",
       "        [  -73.999306,    40.708496],\n",
       "        [  -74.0007  ,    40.709885],\n",
       "        [  -74.001114,    40.710194]],\n",
       "\n",
       "       [[    0.      ,     0.      ],\n",
       "        [    0.      ,     0.      ],\n",
       "        [    0.      ,     0.      ],\n",
       "        ...,\n",
       "        [  -73.97435 ,    40.756523],\n",
       "        [  -73.97604 ,    40.757233],\n",
       "        [  -73.97559 ,    40.75786 ]],\n",
       "\n",
       "       [[    0.      ,     0.      ],\n",
       "        [    0.      ,     0.      ],\n",
       "        [    0.      ,     0.      ],\n",
       "        ...,\n",
       "        [    0.      ,     0.      ],\n",
       "        [    0.      ,     0.      ],\n",
       "        [    0.      ,     0.      ]]], dtype=float32)"
      ]
     },
     "execution_count": 5,
     "metadata": {},
     "output_type": "execute_result"
    }
   ],
   "source": [
    "##. Creating malicious trips by adding delta values (assuming each follows uniform distribution) \n",
    "#.  to routes for each trip\n",
    "\n",
    "from statistics import median \n",
    "from keras.preprocessing.sequence import pad_sequences\n",
    "delta_max_trj = 2.0\n",
    "#. Assign a new label column for representing whether the trip info is malicious or not\n",
    "malicious_trip = []\n",
    "#data_train['trip_duration'] = data_train['trip_duration'].apply(lambda x: x + random.uniform(0,x/5))\n",
    "#data_train['total_distance'] = data_train['total_distance'].apply(lambda x: x + random.uniform(0,x/5))\n",
    "\n",
    "#. For step_location_list in each vehicle's trip,\n",
    "#     a). Extract a two dimentional list from trajecotry while each element is a GPS location\n",
    "trj_list = [] #  A list of lists each of which contains trajectory of the corresponding vehicle\n",
    "\n",
    "for index, row in data_train.iterrows():\n",
    "    flag_malicious = False\n",
    "    if(np.random.normal(0,1) < 0.3):\n",
    "        flag_malicious = True #. the row in current iteration corresponds to a malicious trip\n",
    "        malicious_trip.append(1)\n",
    "        row['trip_duration'] += np.random.uniform(0,float(row['trip_duration'])/5)\n",
    "        row['total_distance'] += np.random.uniform(0,float(row['total_distance'])/5)\n",
    "    else:\n",
    "        malicious_trip.append(0)\n",
    "            \n",
    "    route = row['step_location_list']\n",
    "    delta_dist = float(row['total_distance'])/5\n",
    "    trj = route.split('|')\n",
    "    trj.pop()   #. remove pickup location as it is already in dataframe\n",
    "    trj.pop(0)  #. remove dropoff location\n",
    "    gps_list = []\n",
    "    #step_index = 0\n",
    "    for gps_loc in trj:\n",
    "        gps_log_lat_string = gps_loc.split(',')\n",
    "        gps_log_lat = [float(element) for element in gps_log_lat_string]\n",
    "        if flag_malicious == True:\n",
    "            gps_log_lat[0] += np.random.uniform(-delta_dist,delta_dist)\n",
    "            gps_log_lat[1] += np.random.uniform(-delta_dist,delta_dist)\n",
    "        gps_list.append([gps_log_lat[0],gps_log_lat[1]])\n",
    "        #step_index++\n",
    "    trj_list.append(gps_list)\n",
    " \n",
    "    \n",
    "#.     b). Use pre-padding to pad each list to the same length. The max num of steps is 10\n",
    "#col_num_step = data_train['number_of_steps'].values\n",
    "#print(median(col_num_step))  # 6\n",
    "#print(max(col_num_step))     #. 46 maximum num of steps, pretty long\n",
    "pad_sequences(trj_list, maxlen = 10, dtype='float32', padding='pre')"
   ]
  },
  {
   "cell_type": "code",
   "execution_count": 6,
   "metadata": {},
   "outputs": [
    {
     "ename": "IndexError",
     "evalue": "list index out of range",
     "output_type": "error",
     "traceback": [
      "\u001b[0;31m---------------------------------------------------------------------------\u001b[0m",
      "\u001b[0;31mIndexError\u001b[0m                                Traceback (most recent call last)",
      "\u001b[0;32m<ipython-input-6-518cc749c6ef>\u001b[0m in \u001b[0;36m<module>\u001b[0;34m\u001b[0m\n\u001b[1;32m      3\u001b[0m \u001b[0;32mfor\u001b[0m \u001b[0mcurrent_trj\u001b[0m \u001b[0;32min\u001b[0m \u001b[0mtrj_list\u001b[0m\u001b[0;34m:\u001b[0m\u001b[0;34m\u001b[0m\u001b[0;34m\u001b[0m\u001b[0m\n\u001b[1;32m      4\u001b[0m     \u001b[0;32mfor\u001b[0m \u001b[0mj\u001b[0m \u001b[0;32min\u001b[0m \u001b[0mrange\u001b[0m\u001b[0;34m(\u001b[0m\u001b[0;36m10\u001b[0m\u001b[0;34m)\u001b[0m\u001b[0;34m:\u001b[0m\u001b[0;34m\u001b[0m\u001b[0;34m\u001b[0m\u001b[0m\n\u001b[0;32m----> 5\u001b[0;31m         \u001b[0mtrj_col_lists\u001b[0m\u001b[0;34m[\u001b[0m\u001b[0;36m2\u001b[0m\u001b[0;34m*\u001b[0m\u001b[0mj\u001b[0m\u001b[0;34m]\u001b[0m\u001b[0;34m.\u001b[0m\u001b[0mappend\u001b[0m\u001b[0;34m(\u001b[0m\u001b[0mcurrent_trj\u001b[0m\u001b[0;34m[\u001b[0m\u001b[0mj\u001b[0m\u001b[0;34m]\u001b[0m\u001b[0;34m[\u001b[0m\u001b[0;36m0\u001b[0m\u001b[0;34m]\u001b[0m\u001b[0;34m)\u001b[0m\u001b[0;34m\u001b[0m\u001b[0;34m\u001b[0m\u001b[0m\n\u001b[0m\u001b[1;32m      6\u001b[0m         \u001b[0mtrj_col_lists\u001b[0m\u001b[0;34m[\u001b[0m\u001b[0;36m2\u001b[0m\u001b[0;34m*\u001b[0m\u001b[0mj\u001b[0m\u001b[0;34m+\u001b[0m\u001b[0;36m1\u001b[0m\u001b[0;34m]\u001b[0m\u001b[0;34m.\u001b[0m\u001b[0mappend\u001b[0m\u001b[0;34m(\u001b[0m\u001b[0mcurrent_trj\u001b[0m\u001b[0;34m[\u001b[0m\u001b[0mj\u001b[0m\u001b[0;34m]\u001b[0m\u001b[0;34m[\u001b[0m\u001b[0;36m1\u001b[0m\u001b[0;34m]\u001b[0m\u001b[0;34m)\u001b[0m\u001b[0;34m\u001b[0m\u001b[0;34m\u001b[0m\u001b[0m\n\u001b[1;32m      7\u001b[0m \u001b[0;34m\u001b[0m\u001b[0m\n",
      "\u001b[0;31mIndexError\u001b[0m: list index out of range"
     ]
    }
   ],
   "source": [
    "#.    c.) iterating trj_list, and construct dataframe colums\n",
    "trj_col_lists = [[] for _ in range(20)]\n",
    "for current_trj in trj_list:\n",
    "    for j in range(10):\n",
    "        trj_col_lists[2*j].append(current_trj[j][0])\n",
    "        trj_col_lists[2*j+1].append(current_trj[j][1])\n",
    "\n",
    "trj_features = pd.DataFrame(index = range(len(data_train)))\n",
    "\n",
    "for index_trj_col, trj_col in enumerate(trj_col_lists, start=1):\n",
    "    trj_column_name = None\n",
    "    if (index_trj_col%2) != 0: # longitude\n",
    "        trj_column_name = \"trj_log{}\".format(math.ceil(index_trj_col/2))\n",
    "    else:\n",
    "        trj_column_name = \"trj_lat{}\".format(math.ceil(index_trj_col/2))\n",
    "    trj_features[trj_column_name] = trj_col\n",
    "    \n"
   ]
  },
  {
   "cell_type": "code",
   "execution_count": null,
   "metadata": {
    "collapsed": true
   },
   "outputs": [],
   "source": [
    "#. putting other features in a ndarray with trajectory list, and assign y as labels"
   ]
  }
 ],
 "metadata": {
  "kernelspec": {
   "display_name": "cs231n",
   "language": "python",
   "name": "cs231n"
  },
  "language_info": {
   "codemirror_mode": {
    "name": "ipython",
    "version": 3
   },
   "file_extension": ".py",
   "mimetype": "text/x-python",
   "name": "python",
   "nbconvert_exporter": "python",
   "pygments_lexer": "ipython3",
   "version": "3.7.4"
  }
 },
 "nbformat": 4,
 "nbformat_minor": 2
}
